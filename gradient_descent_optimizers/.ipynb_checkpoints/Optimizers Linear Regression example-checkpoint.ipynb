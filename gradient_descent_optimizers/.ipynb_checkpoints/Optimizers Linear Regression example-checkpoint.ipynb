{
 "cells": [
  {
   "cell_type": "markdown",
   "metadata": {},
   "source": [
    "### Exploring gradient descent based optimizers\n",
    "\n",
    "Notebook to understand the working of various gradient descent based optimisers. We'll be exploring the simplest possible supervised learning algorithm as a use case - i.e. linear regression. It helps understand what are the shortcomings of different optimizers and how it is overcome using the newer methods.\n",
    "\n",
    "Optimizers are used to optimize the model parameters in any learning algorithm. They basically differ in what is the update step given the current parameter values and the gradient values for all parameters. Updating the parameters to minimize loss function is very similar to the real life example of a person trying to reach the bottom of a valley. At any point, you only know where you are, and the directions of maximum change (gradient) in your neighbourhood. You keep moving in direction of maximum downward slope it until you find that the slope is going upward in all your surroundings.\n",
    "\n",
    "Optimizers added:\n",
    "* Gradient Descent\n",
    "* Mini batch gradient descent\n",
    "* Momentum\n",
    "* Nesterov\n",
    "* Adagrad\n",
    "* Adadelta\n",
    "* RMSProp\n",
    "* Adam\n",
    "* Adamax\n",
    "* Nadam\n",
    "\n",
    "Author: Falak Shah"
   ]
  },
  {
   "cell_type": "code",
   "execution_count": 1,
   "metadata": {},
   "outputs": [],
   "source": [
    "%matplotlib inline\n",
    "\n",
    "# import stuff \n",
    "import numpy as np\n",
    "import seaborn as sns\n",
    "from matplotlib import pyplot as plt\n",
    "from mpl_toolkits.mplot3d import Axes3D"
   ]
  },
  {
   "cell_type": "markdown",
   "metadata": {},
   "source": [
    "Synthetically creating points around the line \n",
    "\\begin{equation}\n",
    "y = ax + b\n",
    "\\end{equation}\n",
    "by adding noise to the output. So, effectively,  \n",
    "\\begin{equation}\n",
    "y = ax + b + w, \\quad where \\\\\n",
    "w \\in N(0, \\sigma^2)\n",
    "\\end{equation}"
   ]
  },
  {
   "cell_type": "code",
   "execution_count": 2,
   "metadata": {},
   "outputs": [],
   "source": [
    "# Some global stuff, will be used a lot down the line \n",
    "# Do not overwrite these!!\n",
    "a = 2\n",
    "b = 25\n",
    "sigma = 0.5\n",
    "\n",
    "x = np.arange(-20, 20, 0.05)                       # 40/0.05 = 800 data points\n",
    "y = a * x + b + sigma * np.random.randn(x.shape[0])"
   ]
  },
  {
   "cell_type": "code",
   "execution_count": 3,
   "metadata": {},
   "outputs": [
    {
     "data": {
      "text/plain": [
       "<matplotlib.legend.Legend at 0x7fadf37de810>"
      ]
     },
     "execution_count": 3,
     "metadata": {},
     "output_type": "execute_result"
    },
    {
     "data": {
      "image/png": "[encoded data removed]",
      "text/plain": [
       "<Figure size 504x432 with 1 Axes>"
      ]
     },
     "metadata": {},
     "output_type": "display_data"
    }
   ],
   "source": [
    "plt.figure(figsize = [7,6])\n",
    "plt.scatter(x, y, marker='x', s=0.1)\n",
    "plt.title('Y vs X --> for line to be fit')\n",
    "plt.xlabel('X'); plt.ylabel('Y')\n",
    "plt.legend( ['y = ' + str(a) + 'x + ' + str(b) +' + noise'])"
   ]
  },
  {
   "cell_type": "markdown",
   "metadata": {},
   "source": [
    "The data is shown above. It is basically a line with some gaussian noise added. Here we know the true value of the parameters of the line, i.e. a and b. \n",
    "\n",
    "\n",
    "In a supervised learning problem setting, the task would be to determine a and b. We start with some initial pair (a,b) and moving as per the directions of the optimizer till we find the value of (a,b) minimizes the mean squared error over all data points (global minima) or a batch of data points (local minima). \n",
    "\n",
    "The loss function can be expressed as: \n",
    "\\begin{equation*}\n",
    "loss = \\frac{1}{2}\\sum_{i=1}^n(y_i - (a x_i + b) )^2 \\\\\n",
    "(a_{opt}, b_{opt}) = \\underset{a,b}{\\mathrm{argmin}} (loss)\n",
    "\\end{equation*}\n",
    "The factor of 1/2 can be discarded without any change in results but is kept for now for ease of gradients computation."
   ]
  },
  {
   "cell_type": "code",
   "execution_count": null,
   "metadata": {},
   "outputs": [],
   "source": [
    "# Compute loss for single a,b or a full grid of them \n",
    "def compute_loss(a_est, b_est):\n",
    "    return np.mean(np.square(y - (a_est * x + b_est)),2)"
   ]
  },
  {
   "cell_type": "code",
   "execution_count": null,
   "metadata": {},
   "outputs": [],
   "source": [
    "# Some tricky matrix manipulations in this cell. The main goal is to visualize the loss function for all values of a and b.\n",
    "a_explore_range = 20\n",
    "a_explore_step = 0.1\n",
    "\n",
    "# Since b has less impact on loss function, moving to larger values\n",
    "b_explore_range = 200\n",
    "b_explore_step = 1\n",
    "\n",
    "# Get full ranges of a and b\n",
    "a_est_range = np.arange(a - a_explore_range, a + a_explore_range, a_explore_step)\n",
    "b_est_range = np.arange(b - b_explore_range, b + b_explore_range, b_explore_step)\n",
    "\n",
    "# Make them into a grid. b first, as we want a to change along rows\n",
    "bgrid, agrid = np.meshgrid(b_est_range, a_est_range)\n",
    "\n",
    "# I absolutely hate for loops and I know linear algebra, hence this bit of code\n",
    "size_x = np.int(a_explore_range / a_explore_step * 2)\n",
    "size_y = np.int(b_explore_range / b_explore_step * 2)\n",
    "agrid_tiled = np.tile(np.reshape(agrid, [size_x, size_y, 1]), [1,1,x.shape[0]])\n",
    "bgrid_tiled = np.tile(np.reshape(bgrid, [size_x, size_y,1]), [1,1,x.shape[0]])\n",
    "\n",
    "# Whoosh! Loss for the full grid at once\n",
    "loss_full_grid = compute_loss(agrid_tiled, bgrid_tiled)"
   ]
  },
  {
   "cell_type": "code",
   "execution_count": null,
   "metadata": {},
   "outputs": [],
   "source": [
    "# Change these values and move around the plot to look at it from different angles\n",
    "azimuth_angle = 25.\n",
    "elevation_angle = 35\n",
    "\n",
    "fig = plt.figure(figsize = [12,8])\n",
    "ax = fig.add_subplot(111, projection = '3d')\n",
    "ax.view_init(elev = elevation_angle, azim = azimuth_angle)\n",
    "ax.plot_surface(agrid, bgrid, loss_full_grid)\n",
    "ax.set_xlabel('a', fontsize=15);  ax.set_ylabel('b', fontsize=15)\n",
    "ax.set_zlabel('Loss', fontsize=15)\n",
    "ax.set_title('Visualization of the loss function', fontsize=15)"
   ]
  },
  {
   "cell_type": "markdown",
   "metadata": {},
   "source": [
    "### The loss function\n",
    "\n",
    "Observe the loss function across a grid of different parameter values. The blue curve at any point is the loss for a particular set of parameters(a,b) as shown in the figure. Notice how the decline or rise in loss is much steeper when changing **a** as compared to changing **b**. This is even more evident in the plots shown below.\n",
    "\n",
    "Some optimizers have trouble navigating along such loss functions as we'll observe. Also, this curve is obviously convex, and a very clean one at it. Do not expect such clean loss functions in real life.  "
   ]
  },
  {
   "cell_type": "code",
   "execution_count": null,
   "metadata": {},
   "outputs": [],
   "source": [
    "plt.figure(figsize = [16,6])\n",
    "plt.subplot(121)\n",
    "plt.plot(a_est_range, np.mean(loss_full_grid, axis=1))\n",
    "plt.title('Mean loss values across for different a values')\n",
    "plt.subplot(122)\n",
    "plt.plot(b_est_range, np.mean(loss_full_grid, axis=0))\n",
    "plt.title('Mean loss values across for different b values')"
   ]
  },
  {
   "cell_type": "markdown",
   "metadata": {},
   "source": [
    "### Linear regression problem mathematical formulation\n",
    "\n",
    "We are trying to fit the line \n",
    "\\begin{equation*}\n",
    "y = ax + b\n",
    "\\end{equation*}\n",
    "or in other words minimize the loss function\n",
    "\\begin{equation*}\n",
    "loss = \\frac{1}{2}\\sum_{i=1}^n(y_i - (a x_i + b) )^2 \\\\\n",
    "loss = \\frac{1}{2}\\sum_{i=1}^n (y_i^2 + (a x_i)^2 + b^2 + 2ax_ib - 2ax_iy_i - 2y_ib)\n",
    "\\end{equation*}\n",
    "\n",
    "\n",
    "### Gradients computation\n",
    "Computing the gradients w.r.t a and b, we have\n",
    "\\begin{equation*}\n",
    "\\frac{\\partial loss}{\\partial a} = \\frac{1}{2}\\sum_{i=1}^n (2ax_i^2 + 2x_ib - 2x_iy_i) \\\\\n",
    "\\frac{\\partial loss}{\\partial a} = \\sum_{i=1}^n x_i (ax_i + b - y_i )\\\\\n",
    "\\frac{\\partial loss}{\\partial b} = \\sum_{i=1}^n (ax_i + b - y_i )\\\\\n",
    "\\end{equation*}"
   ]
  },
  {
   "cell_type": "code",
   "execution_count": null,
   "metadata": {},
   "outputs": [],
   "source": [
    "# Utility functions  - mostly self explanatory if you read the above ideas\n",
    "\n",
    "# Hard coded for the line - not a good idea..,but for now\n",
    "def gradient(x, y, a, b):\n",
    "    temp_err = a * x + b - y\n",
    "    loss = sum(temp_err * temp_err)\n",
    "    grad_a = sum(x * temp_err)\n",
    "    grad_b = sum(temp_err)\n",
    "    return (grad_a, grad_b, loss)\n",
    "\n",
    "# It does what the name says it does..\n",
    "def get_random_batch(x, y, batch_size):\n",
    "    i = np.random.randint(0, x.shape[0]-1, size = batch_size)\n",
    "    return(x[i], y[i])\n",
    "\n",
    "# Move these below 2 functions out of the notebook!!\n",
    "def plot_all_results(grad_store, abvalue_store, loss_store, velocity_store = None):\n",
    "    plt.figure(figsize = [20, 12])\n",
    "    plt.subplot(231)\n",
    "    plt.plot(grad_store[:,0])\n",
    "    plt.title('Gradient in a'); plt.xlabel(\"# Epochs\")\n",
    "    plt.subplot(232)\n",
    "    plt.plot(grad_store[:,1])\n",
    "    plt.title('Gradient in b'); plt.xlabel(\"# Epochs\")\n",
    "    plt.subplot(233)\n",
    "    plt.plot(abvalue_store[:,0])\n",
    "    plt.title('\"a\" values'); plt.xlabel(\"# Epochs\")\n",
    "    plt.subplot(234)\n",
    "    plt.plot(abvalue_store[:,1])\n",
    "    plt.title('\"b\" values'); plt.xlabel(\"# Epochs\")\n",
    "    plt.subplot(235)\n",
    "    plt.plot(loss_store)\n",
    "    plt.title(\"Loss\"); plt.xlabel(\"# Epochs\")\n",
    "    if velocity_store is not None:\n",
    "        plt.subplot(236)\n",
    "        plt.plot(velocity_store[:, 0])\n",
    "        plt.plot(velocity_store[:, 1], 'r*')\n",
    "        plt.legend(['Velocity of grad_a', 'Velocity of grad_b'])\n",
    "\n",
    "# Empty spaces for filling in stuff. Storing since we'll need them for plotting\n",
    "def get_data_stores(num_epochs):\n",
    "    grad_store = np.zeros([num_epochs, 2], dtype=float)\n",
    "    abvalue_store = np.zeros([num_epochs, 2], dtype=float)\n",
    "    loss_store = np.zeros([num_epochs, 1], dtype=float)\n",
    "    velocity_store = np.zeros([num_epochs, 2], dtype=float)\n",
    "    \n",
    "    return grad_store, abvalue_store, loss_store, velocity_store"
   ]
  },
  {
   "cell_type": "markdown",
   "metadata": {},
   "source": [
    "### Stochastic Gradient Descent\n",
    "\n",
    "* Simplest of all optimizers\n",
    "* Just one parameter - learning rate (denoted by $\\eta$)\n",
    "* Move in the direction opposite of the gradient\n",
    "* Guaranteed to converge to global optimum (convex function) and local optimum otherwise\n",
    "\n",
    "\n",
    "** Update rule ** \n",
    "\\begin{equation*}\n",
    "a = a - \\eta \\frac{\\partial(loss)}{\\partial{a}} \\\\\n",
    "\\end{equation*}\n",
    "\n",
    "** Cons **\n",
    "* Memory intensive - loads the full dataset and computes gradients\n"
   ]
  },
  {
   "cell_type": "code",
   "execution_count": null,
   "metadata": {},
   "outputs": [],
   "source": [
    "# Stochastic gradient descent\n",
    "\n",
    "initial_a = 8\n",
    "initial_b = 75\n",
    "num_epochs = 1000\n",
    "eta = 8e-6\n",
    "\n",
    "grad_store, abvalue_store, loss_store, _ = get_data_stores(num_epochs)\n",
    "\n",
    "a_opt = initial_a\n",
    "b_opt = initial_b\n",
    "abvalue_store[0,:] = [a_opt, b_opt]\n",
    "\n",
    "grad_a, grad_b, loss = gradient(x, y, a_opt, b_opt)\n",
    "grad_store[0,:] = [grad_a, grad_b]\n",
    "loss_store[0] = loss\n",
    "\n",
    "for i in range(1,num_epochs):\n",
    "    a_opt = a_opt - eta * grad_a\n",
    "    b_opt = b_opt - eta * grad_b\n",
    "    abvalue_store[i,:] = [a_opt, b_opt]\n",
    "    \n",
    "    grad_a, grad_b, loss = gradient(x, y, a_opt, b_opt)\n",
    "    grad_store[i,:] = [grad_a, grad_b]\n",
    "    loss_store[i] = loss\n",
    "    \n",
    "plot_all_results(grad_store, abvalue_store, loss_store)"
   ]
  },
  {
   "cell_type": "markdown",
   "metadata": {},
   "source": [
    "### Mini batch gradient descent\n",
    "\n",
    "This is the same as above gradient descent, except that the update is performed on a mini batch of user specified size. \n",
    "\n",
    "* Less memory intensive\n",
    "* Noisy convergence\n",
    "* More commonly used in neural nets/ problems that don't fit in memory\n",
    "\n",
    "** Update rule ** \n",
    "\\begin{equation*}\n",
    "a = a - \\eta \\frac{\\partial(loss_{batch})}{\\partial{a}} \\\\\n",
    "\\end{equation*}\n",
    "\n",
    "where $loss_{batch}$ is the loss over the mini batch under process"
   ]
  },
  {
   "cell_type": "code",
   "execution_count": null,
   "metadata": {},
   "outputs": [],
   "source": [
    "# Mini batch gradient descent\n",
    "\n",
    "initial_a = 8\n",
    "initial_b = 75\n",
    "num_epochs = 1000\n",
    "learning_rate = 5e-5\n",
    "batch_size = 128 # Lower this and watch the plots grow messy\n",
    "\n",
    "grad_store, abvalue_store, loss_store, velocity_store = get_data_stores(num_epochs)\n",
    "\n",
    "a_opt = initial_a\n",
    "b_opt = initial_b\n",
    "abvalue_store[0,:] = [a_opt, b_opt]\n",
    "\n",
    "x_batch, y_batch = get_random_batch(x,y, batch_size)\n",
    "grad_a, grad_b, loss = gradient(x_batch,y_batch, initial_a, initial_b)\n",
    "grad_store[0,:] = [grad_a, grad_b]\n",
    "abvalue_store[0,:] = [a_opt, b_opt]\n",
    "loss_store[0] = loss\n",
    "\n",
    "for i in range(num_epochs):\n",
    "    a_opt = a_opt - learning_rate * grad_a\n",
    "    b_opt = b_opt - learning_rate * grad_b\n",
    "    x_batch, y_batch = get_random_batch(x,y, batch_size)\n",
    "    grad_a, grad_b, loss = gradient(x_batch, y_batch, a_opt, b_opt)\n",
    "    grad_store[i,:] = [grad_a, grad_b]\n",
    "    abvalue_store[i,:] = [a_opt, b_opt]\n",
    "    loss_store[i] = loss\n",
    "    \n",
    "plot_all_results(grad_store, abvalue_store, loss_store)"
   ]
  },
  {
   "cell_type": "markdown",
   "metadata": {},
   "source": [
    "Observe the noisy convergence in the above case when we used mini batches of data. Vary the batch size parameter above and observe the variations in the result. "
   ]
  },
  {
   "cell_type": "markdown",
   "metadata": {},
   "source": [
    "### Momentum\n",
    "\n",
    "* To lead to faster convergence when gradient changes slowly along one of the dimensions as is the case above\n",
    "\n",
    "\\begin{equation}\n",
    "v_t = \\gamma v_{t−1} + \\eta \\frac{\\partial loss}{\\partial a} \\\\\n",
    "a = a - v_t\n",
    "\\end{equation}"
   ]
  },
  {
   "cell_type": "code",
   "execution_count": null,
   "metadata": {},
   "outputs": [],
   "source": [
    "initial_a = 8\n",
    "initial_b = 75\n",
    "num_epochs = 1000\n",
    "eta = 5e-5\n",
    "batch_size = 128\n",
    "gamma = 0.9\n",
    "\n",
    "grad_store, abvalue_store, loss_store, velocity_store = get_data_stores(num_epochs)\n",
    "\n",
    "a_opt = initial_a\n",
    "b_opt = initial_b\n",
    "abvalue_store[0,:] = [a_opt, b_opt]\n",
    "\n",
    "\n",
    "x_batch, y_batch = get_random_batch(x,y, batch_size)\n",
    "grad_a, grad_b, loss = gradient(x_batch,y_batch, initial_a, initial_b)\n",
    "grad_store[0,:] = [grad_a, grad_b]\n",
    "velocity_a = eta*grad_a\n",
    "velocity_b = eta*grad_b\n",
    "velocity_store[0,:] = [velocity_a, velocity_b]\n",
    "abvalue_store[0,:] = [a_opt, b_opt]\n",
    "loss_store[0] = loss\n",
    "\n",
    "for i in range(num_epochs):\n",
    "    a_opt = a_opt - velocity_a\n",
    "    b_opt = b_opt - velocity_b\n",
    "    x_batch, y_batch = get_random_batch(x,y, batch_size)\n",
    "    grad_a, grad_b, loss = gradient(x_batch, y_batch, a_opt, b_opt)\n",
    "    velocity_a = gamma* velocity_a + eta * grad_a\n",
    "    velocity_b = gamma* velocity_b + eta * grad_b\n",
    "    grad_store[i,:] = [grad_a, grad_b]\n",
    "    abvalue_store[i,:] = [a_opt, b_opt]\n",
    "    velocity_store[i,:] = [velocity_a, velocity_b]\n",
    "    loss_store[i] = loss"
   ]
  },
  {
   "cell_type": "code",
   "execution_count": null,
   "metadata": {},
   "outputs": [],
   "source": [
    "plot_all_results(grad_store, abvalue_store, loss_store, velocity_store)"
   ]
  },
  {
   "cell_type": "markdown",
   "metadata": {},
   "source": [
    "### Nesterov\n",
    "\n",
    "* To prevent the ball from sliding up the other slope with all the momentum it gained while coming down\n",
    "\n",
    "\\begin{equation}\n",
    "v_t = \\gamma v_{t−1} + \\eta \\frac{\\partial loss(a - \\gamma v_{t-1})}{\\partial a }\\\\\n",
    "a = a - v_t\n",
    "\\end{equation}"
   ]
  },
  {
   "cell_type": "code",
   "execution_count": null,
   "metadata": {},
   "outputs": [],
   "source": [
    "initial_a = 8\n",
    "initial_b = 75\n",
    "num_epochs = 1000\n",
    "eta = 5e-5\n",
    "batch_size = 128\n",
    "gamma = 0.9\n",
    "\n",
    "grad_store, abvalue_store, loss_store, velocity_store = get_data_stores(num_epochs)\n",
    "\n",
    "a_opt = initial_a\n",
    "b_opt = initial_b\n",
    "abvalue_store[0,:] = [a_opt, b_opt]\n",
    "\n",
    "\n",
    "x_batch, y_batch = get_random_batch(x,y, batch_size)\n",
    "grad_a, grad_b, loss = gradient(x_batch,y_batch, initial_a, initial_b)\n",
    "grad_store[0,:] = [grad_a, grad_b]\n",
    "velocity_a = eta * grad_a\n",
    "velocity_b = eta * grad_b\n",
    "velocity_store[0,:] = [velocity_a, velocity_b]\n",
    "abvalue_store[0,:] = [a_opt, b_opt]\n",
    "loss_store[0] = loss\n",
    "\n",
    "for i in range(num_epochs):\n",
    "    a_opt = a_opt - velocity_a\n",
    "    b_opt = b_opt - velocity_b\n",
    "    x_batch, y_batch = get_random_batch(x,y, batch_size)\n",
    "    grad_a, grad_b, loss = gradient(x_batch, y_batch, a_opt - gamma * velocity_a, b_opt - gamma * velocity_b)\n",
    "    velocity_a = gamma * velocity_a + eta * grad_a\n",
    "    velocity_b = gamma * velocity_b + eta * grad_b\n",
    "    grad_store[i,:] = [grad_a, grad_b]\n",
    "    abvalue_store[i,:] = [a_opt, b_opt]\n",
    "    velocity_store[i,:] = [velocity_a, velocity_b]\n",
    "    loss_store[i] = loss"
   ]
  },
  {
   "cell_type": "code",
   "execution_count": null,
   "metadata": {},
   "outputs": [],
   "source": [
    "plot_all_results(grad_store, abvalue_store, loss_store, velocity_store)"
   ]
  },
  {
   "cell_type": "markdown",
   "metadata": {},
   "source": [
    "### Adagrad\n",
    "\\begin{equation*}\n",
    "a_{t+1,i} = a_{t,i} −  \\frac{\\eta }{G_{t,ii} + \\epsilon} \\cdot g_{t,i} \n",
    "\\end{equation*}\n",
    "where $G_t \\in R^{d×d}$ is a diagonal matrix where each diagonal element i, i is the sum of the squares of the\n",
    "gradients w.r.t. the parameter up to time step $t^{i}$, while $\\epsilon$ is a smoothing term that avoids division by zero (usually\n",
    "on the order of 1e − 8)"
   ]
  },
  {
   "cell_type": "code",
   "execution_count": null,
   "metadata": {},
   "outputs": [],
   "source": [
    "initial_a = 8\n",
    "initial_b = 75\n",
    "num_epochs = 3000 # It shouldn't take these many ideally - check b again\n",
    "eta = 9e-1  # Keep this one high for adagrad...\n",
    "batch_size = 128\n",
    "eps = 1e-8\n",
    "\n",
    "grad_store, abvalue_store, loss_store, _ = get_data_stores(num_epochs)\n",
    "\n",
    "a_opt = initial_a\n",
    "b_opt = initial_b\n",
    "abvalue_store[0,:] = [a_opt, b_opt]\n",
    "\n",
    "\n",
    "x_batch, y_batch = get_random_batch(x,y, batch_size)\n",
    "grad_a, grad_b, loss = gradient(x_batch,y_batch, initial_a, initial_b)\n",
    "grad_store[0,:] = [grad_a, grad_b]\n",
    "abvalue_store[0,:] = [a_opt, b_opt]\n",
    "loss_store[0] = loss\n",
    "\n",
    "for i in range(1,num_epochs):\n",
    "    a_opt = a_opt - eta * grad_a / np.sqrt(sum(np.power(grad_store[:i,0],2)) + eps)\n",
    "    b_opt = b_opt - eta * grad_b / np.sqrt(sum(np.power(grad_store[:i,1],2)) + eps)\n",
    "    x_batch, y_batch = get_random_batch(x,y, batch_size)\n",
    "    grad_a, grad_b, loss = gradient(x_batch, y_batch, a_opt , b_opt)\n",
    "    grad_store[i,:] = [grad_a, grad_b]\n",
    "    abvalue_store[i,:] = [a_opt, b_opt]\n",
    "    loss_store[i] = loss"
   ]
  },
  {
   "cell_type": "code",
   "execution_count": null,
   "metadata": {},
   "outputs": [],
   "source": [
    "plot_all_results(grad_store, abvalue_store, loss_store)"
   ]
  },
  {
   "cell_type": "markdown",
   "metadata": {
    "collapsed": true
   },
   "source": [
    "### Adadelta\n"
   ]
  },
  {
   "cell_type": "code",
   "execution_count": null,
   "metadata": {},
   "outputs": [],
   "source": [
    "def gradient(x, y, a, b):\n",
    "    temp_err = a * x + b - y\n",
    "    loss = sum(temp_err * temp_err)\n",
    "    grad_a = sum(x * temp_err)\n",
    "    grad_b = sum(temp_err)\n",
    "    return (grad_a, grad_b, loss)"
   ]
  },
  {
   "cell_type": "code",
   "execution_count": null,
   "metadata": {},
   "outputs": [],
   "source": [
    "%%time\n",
    "initial_a = 8\n",
    "initial_b = 75\n",
    "num_epochs = 3000\n",
    "epsilon = 1e-8\n",
    "initial_theta = np.array([initial_a, initial_b])\n",
    "gamma = 0.999\n",
    "eta = 8e-2\n",
    "batch_size = 128\n",
    "\n",
    "grad_store, abvalue_store, loss_store, _ = get_data_stores(num_epochs)\n",
    "\n",
    "theta = initial_theta\n",
    "\n",
    "x_batch, y_batch = get_random_batch(x,y, batch_size)\n",
    "grad_a, grad_b, loss = gradient(x_batch,y_batch, initial_a, initial_b)\n",
    "grad = np.array([grad_a, grad_b])\n",
    "\n",
    "expected_grad = np.square(grad)\n",
    "\n",
    "grad_store[0,:] = list(grad)\n",
    "abvalue_store[0,:] = list(initial_theta)\n",
    "loss_store[0,:] = loss\n",
    "\n",
    "for i in range(1,num_epochs):\n",
    "    #Basic idea of gradient \n",
    "    RMS_grad = np.sqrt(expected_grad + epsilon)\n",
    "    delta_theta = -(eta/RMS_grad) * grad\n",
    "    theta = theta + delta_theta\n",
    "    #Update expected_grad\n",
    "    x_batch, y_batch = get_random_batch(x,y, batch_size)\n",
    "    grad_a, grad_b, loss = gradient(x_batch,y_batch, theta[0], theta[1])\n",
    "    grad = np.array([grad_a, grad_b])\n",
    "    expected_grad = gamma * expected_grad + (1 - gamma) * np.square(grad)\n",
    "    \n",
    "    grad_store[i,:] = list(grad)\n",
    "    abvalue_store[i,:] = list(theta)\n",
    "    loss_store[i] = loss\n",
    "    \n",
    "    #print grad"
   ]
  },
  {
   "cell_type": "code",
   "execution_count": null,
   "metadata": {},
   "outputs": [],
   "source": [
    "\n",
    "plot_all_results(grad_store, abvalue_store, loss_store)"
   ]
  },
  {
   "cell_type": "code",
   "execution_count": null,
   "metadata": {},
   "outputs": [],
   "source": [
    "# For parameter's units correction"
   ]
  },
  {
   "cell_type": "code",
   "execution_count": null,
   "metadata": {},
   "outputs": [],
   "source": [
    "%%time\n",
    "initial_a = 8\n",
    "initial_b = 75\n",
    "num_epochs = 2000\n",
    "epsilon = 1e-8\n",
    "initial_theta = np.array([initial_a, initial_b])\n",
    "gamma = 0.9\n",
    "eta = 1e-1\n",
    "batch_size = 128\n",
    "\n",
    "grad_store, abvalue_store, loss_store, _ = get_data_stores(num_epochs)\n",
    "\n",
    "theta = initial_theta\n",
    "\n",
    "x_batch, y_batch = get_random_batch(x,y, batch_size)\n",
    "grad_a, grad_b, loss = gradient(x_batch,y_batch, initial_a, initial_b)\n",
    "grad = np.array([grad_a, grad_b])\n",
    "\n",
    "expected_grad = np.square(grad)\n",
    "delta_theta = -(eta/np.sqrt(expected_grad + epsilon)) * grad                                                                                                                                                                \n",
    "expected_delta_theta = np.square(delta_theta)\n",
    "\n",
    "grad_store[0,:] = list(grad)\n",
    "abvalue_store[0,:] = list(initial_theta)\n",
    "loss_store[0,:] = loss\n",
    "\n",
    "theta = theta + delta_theta\n",
    "x_batch, y_batch = get_random_batch(x,y, batch_size)\n",
    "grad_a, grad_b, loss = gradient(x_batch,y_batch, theta[0], theta[1])\n",
    "grad = np.array([grad_a, grad_b])\n",
    "expected_grad = gamma * expected_grad + (1 - gamma) * np.square(grad)\n",
    "\n",
    "grad_store[1,:] = list(grad)\n",
    "abvalue_store[1,:] = list(initial_theta)\n",
    "loss_store[1,:] = loss\n",
    "\n",
    "for i in range(2,num_epochs):\n",
    "    #Basic idea of gradient \n",
    "    rms_delta_theta = np.sqrt(expected_delta_theta + epsilon)\n",
    "    rms_grad = np.sqrt(expected_grad + epsilon)\n",
    "    delta_theta = - grad * (rms_delta_theta /(rms_grad))\n",
    "    \n",
    "    theta = theta + delta_theta\n",
    "    \n",
    "    #theta = theta + expected_delta_theta\n",
    "    #Update expected_grad\n",
    "    x_batch, y_batch = get_random_batch(x,y, batch_size)\n",
    "    grad_a, grad_b, loss = gradient(x_batch,y_batch, theta[0], theta[1])\n",
    "    \n",
    "    grad = np.array([grad_a, grad_b])\n",
    "    \n",
    "    expected_grad = gamma * expected_grad + (1 - gamma) * np.square(grad)\n",
    "    expected_delta_theta = gamma * expected_delta_theta + (1-gamma) * np.square(delta_theta)\n",
    "    \n",
    "    grad_store[i,:] = list(grad)\n",
    "    abvalue_store[i,:] = list(theta)\n",
    "    loss_store[i] = loss\n",
    "    \n",
    "    #print grad"
   ]
  },
  {
   "cell_type": "code",
   "execution_count": null,
   "metadata": {},
   "outputs": [],
   "source": [
    "plot_all_results(grad_store, abvalue_store, loss_store)"
   ]
  },
  {
   "cell_type": "markdown",
   "metadata": {},
   "source": [
    "### Adam\n",
    "\\begin{equation}\n",
    "m_t = \\beta_1 m_{t−1} + (1 − \\beta_1)g_t \\\\\n",
    "v_t = \\beta_2v_{t−1} + (1 − \\beta_2)g^2_t \\\\\n",
    "\\hat{m_t} = \\frac{m_t}{1 − β_t}\n",
    "\\end{equation}"
   ]
  },
  {
   "cell_type": "code",
   "execution_count": null,
   "metadata": {},
   "outputs": [],
   "source": [
    "%%time\n",
    "initial_a = 8\n",
    "initial_b = 75\n",
    "num_epochs = 2000\n",
    "epsilon = 1e-8\n",
    "\n",
    "theta = np.array([initial_a, initial_b])\n",
    "beta1 = 0.9\n",
    "beta2 = 0.999\n",
    "batch_size = 1024\n",
    "eta = 1e-1\n",
    "grad_store, abvalue_store, loss_store, velocity_store = get_data_stores(num_epochs)\n",
    "\n",
    "\n",
    "mt = np.array([0, 0])\n",
    "vt = np.array([0, 0])\n",
    "\n",
    "for i in range(num_epochs): \n",
    "    t = i+1\n",
    "    #Update expected_grad\n",
    "    x_batch, y_batch = get_random_batch(x,y, batch_size)\n",
    "    \n",
    "    grad_a, grad_b, loss = gradient(x_batch,y_batch, theta[0], theta[1])\n",
    "    grad = np.array([grad_a, grad_b])\n",
    "    \n",
    "    mt = (beta1 * mt + (1 - beta1) * grad)\n",
    "    vt = (beta2 * vt + (1 - beta2) * (grad ** 2))\n",
    "    \n",
    "    mhat = mt / (1 - beta1 ** t ) \n",
    "    vhat = vt / (1 - beta2 ** t )\n",
    "    \n",
    "    grad_store[i,:] = list(grad)\n",
    "    abvalue_store[i,:] = list(theta)\n",
    "    loss_store[i] = loss\n",
    "    \n",
    "#     print vhat\n",
    "    \n",
    "    #Basic idea of gradient \n",
    "    delta_theta = -1 * eta * mhat/(np.sqrt(vhat) + epsilon)\n",
    "    theta = theta + delta_theta"
   ]
  },
  {
   "cell_type": "code",
   "execution_count": null,
   "metadata": {},
   "outputs": [],
   "source": [
    "plot_all_results(grad_store, abvalue_store, loss_store)"
   ]
  },
  {
   "cell_type": "markdown",
   "metadata": {},
   "source": [
    "## AdaMax\n",
    "\n",
    "\\begin{equation}\n",
    "u_t = \\beta^\\infty_2 v_{t−1} + (1 − β_2^\\infty)|g_t|^\\infty\\\\\n",
    "u_t = max(\\beta_2 \\cdot v_{t−1}, |g_t|) \\\\\n",
    "\\theta_{t+1} = \\theta_t − \\eta \\frac{\\hat{m_t}}{u_t}\n",
    "\\end{equation}"
   ]
  },
  {
   "cell_type": "code",
   "execution_count": null,
   "metadata": {},
   "outputs": [],
   "source": [
    "%%time\n",
    "initial_a = 8\n",
    "initial_b = 75\n",
    "num_epochs = 2000\n",
    "epsilon = 1e-8\n",
    "\n",
    "theta = np.array([initial_a, initial_b])\n",
    "beta1 = 0.9\n",
    "beta2 = 0.999\n",
    "batch_size = 1024\n",
    "eta = 1e-1\n",
    "grad_store, abvalue_store, loss_store, velocity_store = get_data_stores(num_epochs)\n",
    "\n",
    "\n",
    "mt = np.array([0, 0])\n",
    "vt = np.array([0, 0])\n",
    "\n",
    "for i in range(num_epochs): \n",
    "    t = i+1\n",
    "    #Update expected_grad\n",
    "    x_batch, y_batch = get_random_batch(x,y, batch_size)\n",
    "    \n",
    "    grad_a, grad_b, loss = gradient(x_batch,y_batch, theta[0], theta[1])\n",
    "    grad = np.array([grad_a, grad_b])\n",
    "    \n",
    "    mt = (beta1 * mt + (1 - beta1) * grad)\n",
    "    vt = (beta2 * vt + (1 - beta2) * (grad ** 2))\n",
    "    \n",
    "    ut = np.max(np.append(beta2 * vt, grad, axis=0), axis=0)\n",
    "    \n",
    "    mhat = mt / (1 - beta1 ** t ) \n",
    "#     vhat = vt / (1 - beta2 ** t )\n",
    "    \n",
    "    grad_store[i,:] = list(grad)\n",
    "    abvalue_store[i,:] = list(theta)\n",
    "    loss_store[i] = loss\n",
    "    \n",
    "#     print vhat\n",
    "    \n",
    "    #Basic idea of gradient \n",
    "    delta_theta = -1 * eta * mhat/(np.sqrt(ut) + epsilon)\n",
    "    theta = theta + delta_theta"
   ]
  },
  {
   "cell_type": "code",
   "execution_count": null,
   "metadata": {},
   "outputs": [],
   "source": [
    "plot_all_results(grad_store, abvalue_store, loss_store)"
   ]
  },
  {
   "cell_type": "markdown",
   "metadata": {},
   "source": [
    "### Nadam\n",
    "\\begin{equation}\n",
    "    \\theta_{t+1} = \\theta_{t} − \\frac{\\eta}{\\sqrt{v_t} + \\epsilon} (\\beta_1 \\hat{m_t} + \\frac{(1-\\beta_1)g_tt}{1-\\beta_1^t})\n",
    "\\end{equation}"
   ]
  },
  {
   "cell_type": "code",
   "execution_count": null,
   "metadata": {},
   "outputs": [],
   "source": [
    "%%time\n",
    "initial_a = 8\n",
    "initial_b = 75\n",
    "num_epochs = 2000\n",
    "epsilon = 1e-8\n",
    "\n",
    "theta = np.array([initial_a, initial_b])\n",
    "beta1 = 0.9\n",
    "beta2 = 0.999\n",
    "batch_size = 1024\n",
    "eta = 1e-1\n",
    "grad_store, abvalue_store, loss_store, velocity_store = get_data_stores(num_epochs)\n",
    "\n",
    "\n",
    "mt = np.array([0, 0])\n",
    "vt = np.array([0, 0])\n",
    "\n",
    "for i in range(num_epochs): \n",
    "    t = i+1\n",
    "    #Update expected_grad\n",
    "    x_batch, y_batch = get_random_batch(x,y, batch_size)\n",
    "    \n",
    "    grad_a, grad_b, loss = gradient(x_batch,y_batch, theta[0], theta[1])\n",
    "    grad = np.array([grad_a, grad_b])\n",
    "    \n",
    "    mt = (beta1 * mt + (1 - beta1) * grad)\n",
    "    vt = (beta2 * vt + (1 - beta2) * (grad ** 2))\n",
    "    \n",
    "    ut = np.max(np.append(beta2 * vt, grad, axis=0), axis=0)\n",
    "    \n",
    "    mhat = mt / (1 - beta1 ** t ) \n",
    "    vhat = vt / (1 - beta2 ** t )\n",
    "    \n",
    "    grad_store[i,:] = list(grad)\n",
    "    abvalue_store[i,:] = list(theta)\n",
    "    loss_store[i] = loss\n",
    "    \n",
    "#     print vhat\n",
    "    \n",
    "    #Basic idea of gradient \n",
    "    delta_theta = -1 * eta * (beta1 * mhat + (1 - beta1)/(1 - beta1 ** t) * grad)/(np.sqrt(ut) + epsilon)\n",
    "    theta = theta + delta_theta"
   ]
  },
  {
   "cell_type": "code",
   "execution_count": null,
   "metadata": {},
   "outputs": [],
   "source": [
    "plot_all_results(grad_store, abvalue_store, loss_store)"
   ]
  },
  {
   "cell_type": "code",
   "execution_count": null,
   "metadata": {},
   "outputs": [],
   "source": []
  }
 ],
 "metadata": {
  "kernelspec": {
   "display_name": "Python 2",
   "language": "python",
   "name": "python2"
  },
  "language_info": {
   "codemirror_mode": {
    "name": "ipython",
    "version": 2
   },
   "file_extension": ".py",
   "mimetype": "text/x-python",
   "name": "python",
   "nbconvert_exporter": "python",
   "pygments_lexer": "ipython2",
   "version": "2.7.15"
  }
 },
 "nbformat": 4,
 "nbformat_minor": 2
}
