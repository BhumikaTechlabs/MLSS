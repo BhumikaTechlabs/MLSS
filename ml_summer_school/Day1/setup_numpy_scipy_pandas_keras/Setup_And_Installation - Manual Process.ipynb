{
 "cells": [
  {
   "cell_type": "markdown",
   "metadata": {},
   "source": [
    "# How to install virtualenv:"
   ]
  },
  {
   "cell_type": "markdown",
   "metadata": {},
   "source": [
    "### Install **pip** first\n",
    "\n",
    ">sudo apt-get install python-pip"
   ]
  },
  {
   "cell_type": "markdown",
   "metadata": {},
   "source": [
    "## **virtualenv** setup using pip\n",
    "\n",
    ">pip install virtualenv \n",
    "\n",
    "#### Now create a virtual environment \n",
    "\n",
    ">virtualenv mlssenv \n",
    "\n",
    "    you can use any name insted of **mlssenv**\n",
    "\n",
    "#### You can also use a Python interpreter of your choice\n",
    "\n",
    ">virtualenv -p /usr/bin/python2.7 mlssenv\n",
    "  \n",
    "#### Active your virtual environment:    \n",
    "    \n",
    ">source mlssenv/bin/activate\n",
    "\n",
    "#### To deactivate:\n",
    "\n",
    ">deactivate"
   ]
  },
  {
   "cell_type": "markdown",
   "metadata": {},
   "source": [
    "# Installtion of python packages"
   ]
  },
  {
   "cell_type": "markdown",
   "metadata": {},
   "source": [
    "### Jupyter\n",
    "\n",
    "Project Jupyter exists to develop open-source software, open-standards, and services for interactive computing across dozens of programming languages.\n",
    "\n",
    ">pip install jupyter"
   ]
  },
  {
   "cell_type": "markdown",
   "metadata": {},
   "source": [
    "### Numpy\n",
    "\n",
    "NumPy is the fundamental package for scientific computing with Python. It contains among other things:\n",
    "\n",
    "* a powerful N-dimensional array object\n",
    "* sophisticated (broadcasting) functions\n",
    "* tools for integrating C/C++ and Fortran code\n",
    "* useful linear algebra, Fourier transform, and random number capabilities \n",
    "\n",
    "    Besides its obvious scientific uses, NumPy can also be used as an efficient multi-dimensional container of generic data. Arbitrary data-types can be defined. This allows NumPy to seamlessly and speedily integrate with a wide variety of databases.\n",
    ">pip install numpy\n",
    "\n",
    "\n",
    "<b>Package functionalities </b>\n",
    "\n",
    "<b> Linear Algebra </b>\n",
    "\n",
    "* qr Computes the QR decomposition\n",
    "* cholesky Computes the Cholesky decomposition\n",
    "* inv(A) Inverse\n",
    "* solve(A,b) Solves Ax = b for A full rank\n",
    "* lstsq(A,b) Solves arg minx kAx − bk2\n",
    "* eig(A) Eigenvalue decomposition\n",
    "* eig(A) Eigenvalue decomposition for symmetric or hermitian\n",
    "* eigvals(A) Computes eigenvalues.\n",
    "* svd(A, full) Singular value decomposition\n",
    "* pinv(A) Computes pseudo-inverse of A\n",
    "\n",
    "<b>Fourier Transforms </b>\n",
    "\n",
    "* fft 1-dimensional DFT\n",
    "* fft2 2-dimensional DFT\n",
    "* fftn N-dimensional DFT\n",
    "* ifft 1-dimensional inverse DFT (etc.)\n",
    "\n",
    "<b>Random Sampling </b>\n",
    "\n",
    "* rand(d0,d1,...,dn) Random values in a given shape\n",
    "* randn(d0, d1, ...,dn) Random standard normal\n",
    "* randint(lo, hi, size) Random integers [lo, hi)\n",
    "* choice(a, size, repl, p) Sample from a\n",
    "* shuffle(a) Permutation (in-place)\n",
    "* permutation(a) Permutation (new array)\n",
    "\n"
   ]
  },
  {
   "cell_type": "markdown",
   "metadata": {},
   "source": [
    "### Scipy\n",
    "\n",
    "The SciPy library is one of the core packages that make up the SciPy stack. It provides many user-friendly and efficient numerical routines such as routines for numerical integration and optimization.\n",
    "\n",
    ">pip install scipy\n",
    "\n",
    "Stats\n",
    "* Mean, median, mode, variance, kurtosis\n",
    "* Pearson correlation coefficient\n",
    "* Hypothesis tests (ttest, Wilcoxon signed-rank test,\n",
    "* Kolmogorov-Smirnov)\n",
    "* Gaussian kernel density estimation\n",
    "\n",
    "Optimization\n",
    "* Constrainted minimization; non-negative least-squares\n",
    "* Minimize using simulated annealing\n",
    "* Root finding\n",
    "* Check gradient function\n",
    "\n",
    "<b> IO\n",
    "* Matlab files\n",
    "* Matrix Market files (sparse matrices)\n",
    "* Wav files\n"
   ]
  },
  {
   "cell_type": "markdown",
   "metadata": {},
   "source": [
    "### Pandas\n",
    "\n",
    "pandas is an open source, BSD-licensed library providing high-performance, easy-to-use data structures and data \n",
    "analysis tools for the Python programming language.\n",
    "\n",
    ">pip install pandas"
   ]
  },
  {
   "cell_type": "markdown",
   "metadata": {},
   "source": [
    "### Matplotlib\n",
    "\n",
    "Matplotlib is a Python 2D plotting library which produces publication quality figures in a variety of hardcopy formats and interactive environments across platforms. Matplotlib can be used in Python scripts, the Python and IPython shells, the Jupyter notebook, web application servers, and four graphical user interface toolkits.\n",
    "\n",
    ">pip install matplotlib"
   ]
  },
  {
   "cell_type": "markdown",
   "metadata": {},
   "source": [
    "### Scikit-Learn\n",
    "\n",
    "* Simple and efficient tools for data mining and data analysis\n",
    "* Accessible to everybody, and reusable in various contexts\n",
    "* Built on NumPy, SciPy, and matplotlib\n",
    "* Open source, commercially usable - BSD license\n",
    "\n",
    ">pip install scikit-learn"
   ]
  },
  {
   "cell_type": "markdown",
   "metadata": {},
   "source": [
    "### TensorFlow\n",
    "\n",
    "TensorFlow™ is an open source software library for high performance numerical computation. Its flexible architecture allows easy deployment of computation across a variety of platforms (CPUs, GPUs, TPUs), and from desktops to clusters of servers to mobile and edge devices. Originally developed by researchers and engineers from the Google Brain team within Google’s AI organization, it comes with strong support for machine learning and deep learning and the flexible numerical computation core is used across many other scientific domains.\n",
    "\n",
    ">pip install tensorflow"
   ]
  },
  {
   "cell_type": "markdown",
   "metadata": {},
   "source": [
    "### Keras\n",
    "\n",
    "Keras is a high-level neural networks API, written in Python and capable of running on top of TensorFlow, CNTK, or Theano. It was developed with a focus on enabling fast experimentation. Being able to go from idea to result with the least possible delay is key to doing good research.\n",
    "\n",
    "Use Keras if you need a deep learning library that:\n",
    "\n",
    "* Allows for easy and fast prototyping (through user friendliness, modularity, and extensibility).\n",
    "* Supports both convolutional networks and recurrent networks, as well as combinations of the two.\n",
    "* Runs seamlessly on CPU and GPU.\n",
    "\n",
    ">pip install keras"
   ]
  },
  {
   "cell_type": "markdown",
   "metadata": {},
   "source": [
    "### NLTK\n",
    "\n",
    "NLTK is a leading platform for building Python programs to work with human language data. It provides easy-to-use interfaces to over 50 corpora and lexical resources such as WordNet, along with a suite of text processing libraries for classification, tokenization, stemming, tagging, parsing, and semantic reasoning, wrappers for industrial-strength NLP libraries\n",
    "\n",
    ">pip install nltk"
   ]
  },
  {
   "cell_type": "markdown",
   "metadata": {},
   "source": [
    "### gensim\n",
    "\n",
    "Gensim is a robust open-source vector space modeling and topic modeling toolkit implemented in Python. It uses NumPy, SciPy and optionally Cython for performance. Gensim is specifically designed to handle large text collections, using data streaming and efficient incremental algorithms, which differentiates it from most other scientific software packages that only target batch and in-memory processing.\n",
    "\n",
    ">pip install gensim"
   ]
  },
  {
   "cell_type": "markdown",
   "metadata": {},
   "source": [
    "### spaCy\n",
    "\n",
    "spaCy is an open-source software library for advanced Natural Language Processing. It offers the fastest syntactic parser in the world. The library is published under the MIT license and currently offers statistical neural network models for English, German, Spanish, Portuguese, French, Italian, Dutch and multi-language NER, as well as tokenization for various other languages. It features convolutional neural network models for part-of-speech tagging, dependency parsing and named entity recognition.\n",
    "\n",
    ">pip install spacy==1.9.0"
   ]
  }
 ],
 "metadata": {
  "kernelspec": {
   "display_name": "Python 3",
   "language": "python",
   "name": "python3"
  },
  "language_info": {
   "codemirror_mode": {
    "name": "ipython",
    "version": 3
   },
   "file_extension": ".py",
   "mimetype": "text/x-python",
   "name": "python",
   "nbconvert_exporter": "python",
   "pygments_lexer": "ipython3",
   "version": "3.5.2"
  }
 },
 "nbformat": 4,
 "nbformat_minor": 2
}
