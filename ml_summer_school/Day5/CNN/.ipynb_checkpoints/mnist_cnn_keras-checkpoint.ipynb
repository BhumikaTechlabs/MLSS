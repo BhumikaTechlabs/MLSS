{
 "cells": [
  {
   "cell_type": "markdown",
   "metadata": {},
   "source": [
    "# Simple CNN for MNIST \n",
    "\n",
    "Using the MNIST dataset (70 000 pictures of hand-written digits) we will train a simple CNN, which is able to predict a digit given a picture of a hand-written digit with 99% accuracy. "
   ]
  },
  {
   "cell_type": "code",
   "execution_count": 1,
   "metadata": {},
   "outputs": [
    {
     "name": "stderr",
     "output_type": "stream",
     "text": [
      "/home/brv/miniconda3/envs/dl/lib/python2.7/site-packages/h5py/__init__.py:36: FutureWarning: Conversion of the second argument of issubdtype from `float` to `np.floating` is deprecated. In future, it will be treated as `np.float64 == np.dtype(float).type`.\n",
      "  from ._conv import register_converters as _register_converters\n",
      "Using TensorFlow backend.\n"
     ]
    }
   ],
   "source": [
    "import numpy as np\n",
    "np.random.seed(1337)  # for reproducibility\n",
    "from keras.datasets import mnist\n",
    "from keras.models import Model\n",
    "from keras.layers import Dense, Dropout, Activation, Flatten\n",
    "from keras.layers import Input, Conv2D, MaxPool2D\n",
    "from keras.utils import np_utils\n",
    "import matplotlib.pyplot as plt"
   ]
  },
  {
   "cell_type": "markdown",
   "metadata": {},
   "source": [
    "Network parameters:"
   ]
  },
  {
   "cell_type": "code",
   "execution_count": 2,
   "metadata": {},
   "outputs": [],
   "source": [
    "batch_size = 32\n",
    "nb_classes = 10\n",
    "nb_epoch = 15\n",
    "\n",
    "# input image dimensions\n",
    "img_rows, img_cols = 28, 28\n",
    "# number of convolutional filters to use\n",
    "nb_filters = 32\n",
    "# size of pooling area for max pooling\n",
    "pool_size = (2, 2)\n",
    "# convolution kernel size\n",
    "kernel_size = (3, 3)"
   ]
  },
  {
   "cell_type": "markdown",
   "metadata": {},
   "source": [
    "Prepare data into training and test set."
   ]
  },
  {
   "cell_type": "code",
   "execution_count": 3,
   "metadata": {},
   "outputs": [],
   "source": [
    "# the data, shuffled and split between train and test sets\n",
    "(X_train, y_train), (X_test, y_test) = mnist.load_data()"
   ]
  },
  {
   "cell_type": "code",
   "execution_count": 4,
   "metadata": {},
   "outputs": [],
   "source": [
    "X_train = X_train[:1000]\n",
    "y_train = y_train[:1000]"
   ]
  },
  {
   "cell_type": "code",
   "execution_count": 5,
   "metadata": {},
   "outputs": [],
   "source": [
    "X_train = X_train.reshape(X_train.shape[0], img_rows, img_cols, 1)\n",
    "X_test = X_test.reshape(X_test.shape[0], img_rows, img_cols, 1)\n",
    "input_shape = (1, img_rows, img_cols)"
   ]
  },
  {
   "cell_type": "code",
   "execution_count": 6,
   "metadata": {},
   "outputs": [
    {
     "name": "stdout",
     "output_type": "stream",
     "text": [
      "('X_train shape:', (1000, 28, 28, 1))\n",
      "(1000, 'train samples')\n",
      "(10000, 'test samples')\n"
     ]
    }
   ],
   "source": [
    "X_train = X_train.astype('float32')\n",
    "X_test = X_test.astype('float32')\n",
    "X_train /= 255\n",
    "X_test /= 255\n",
    "print('X_train shape:', X_train.shape)\n",
    "print(X_train.shape[0], 'train samples')\n",
    "print(X_test.shape[0], 'test samples')"
   ]
  },
  {
   "cell_type": "code",
   "execution_count": 7,
   "metadata": {},
   "outputs": [],
   "source": [
    "# convert class vectors to binary class matrices\n",
    "Y_train = np_utils.to_categorical(y_train, nb_classes)\n",
    "Y_test = np_utils.to_categorical(y_test, nb_classes)"
   ]
  },
  {
   "cell_type": "code",
   "execution_count": 8,
   "metadata": {},
   "outputs": [],
   "source": [
    "# build validation data\n",
    "split = 0.7\n",
    "split_value = int(0.7 * len(X_train))\n",
    "\n",
    "X_val = X_train[split_value:]\n",
    "Y_val = Y_train[split_value:]\n",
    "\n",
    "X_train = X_train[:split_value]\n",
    "Y_train = Y_train[:split_value]"
   ]
  },
  {
   "cell_type": "code",
   "execution_count": 9,
   "metadata": {},
   "outputs": [
    {
     "data": {
      "image/png": "[encoded data removed]",
      "text/plain": [
       "<Figure size 1152x648 with 9 Axes>"
      ]
     },
     "metadata": {},
     "output_type": "display_data"
    }
   ],
   "source": [
    "fig, ax = plt.subplots(nrows=3, ncols=3, figsize=(16, 9))\n",
    "for i, axes in enumerate(ax.flat):\n",
    "    axes.imshow(X_train[i, :, :, 0], cmap='gray')"
   ]
  },
  {
   "cell_type": "markdown",
   "metadata": {},
   "source": [
    "Build the CNN. "
   ]
  },
  {
   "cell_type": "code",
   "execution_count": 16,
   "metadata": {},
   "outputs": [],
   "source": [
    "inp = Input(shape=[28, 28, 1])\n",
    "\n",
    "layer1 = Conv2D(filters=nb_filters, \n",
    "                kernel_size=kernel_size, \n",
    "                strides=(1, 1), \n",
    "                padding='same', \n",
    "                activation='relu')(inp)\n",
    "layer1_maxpool = MaxPool2D(pool_size=(2, 2), padding='same')(layer1)\n",
    "layer2 = Conv2D(filters=nb_filters, \n",
    "                kernel_size=kernel_size, \n",
    "                strides=(1, 1), \n",
    "                padding='same', \n",
    "                activation='relu')(layer1_maxpool)\n",
    "layer2_maxpool = MaxPool2D(pool_size=(2, 2), padding='same')(layer2)\n",
    "layer3 = Flatten()(layer2_maxpool)\n",
    "\n",
    "layer4 = Dense(units=128, activation='relu')(layer3)\n",
    "layer5 = Dense(units=nb_classes, activation='softmax')(layer4)\n",
    "\n",
    "model = Model(inputs=inp, outputs=layer5)\n",
    "\n",
    "model.compile(loss='categorical_crossentropy',\n",
    "              optimizer='sgd',\n",
    "              metrics=['accuracy'])"
   ]
  },
  {
   "cell_type": "markdown",
   "metadata": {},
   "source": [
    "Show a summary of the model parameters. "
   ]
  },
  {
   "cell_type": "code",
   "execution_count": 17,
   "metadata": {},
   "outputs": [
    {
     "name": "stdout",
     "output_type": "stream",
     "text": [
      "_________________________________________________________________\n",
      "Layer (type)                 Output Shape              Param #   \n",
      "=================================================================\n",
      "input_2 (InputLayer)         (None, 28, 28, 1)         0         \n",
      "_________________________________________________________________\n",
      "conv2d_3 (Conv2D)            (None, 28, 28, 32)        320       \n",
      "_________________________________________________________________\n",
      "max_pooling2d_3 (MaxPooling2 (None, 14, 14, 32)        0         \n",
      "_________________________________________________________________\n",
      "conv2d_4 (Conv2D)            (None, 14, 14, 32)        9248      \n",
      "_________________________________________________________________\n",
      "max_pooling2d_4 (MaxPooling2 (None, 7, 7, 32)          0         \n",
      "_________________________________________________________________\n",
      "flatten_2 (Flatten)          (None, 1568)              0         \n",
      "_________________________________________________________________\n",
      "dense_3 (Dense)              (None, 128)               200832    \n",
      "_________________________________________________________________\n",
      "dense_4 (Dense)              (None, 10)                1290      \n",
      "=================================================================\n",
      "Total params: 211,690\n",
      "Trainable params: 211,690\n",
      "Non-trainable params: 0\n",
      "_________________________________________________________________\n"
     ]
    }
   ],
   "source": [
    "model.summary()"
   ]
  },
  {
   "cell_type": "markdown",
   "metadata": {},
   "source": [
    "And now train the model and evaluate on the test set. "
   ]
  },
  {
   "cell_type": "code",
   "execution_count": 18,
   "metadata": {
    "scrolled": true
   },
   "outputs": [
    {
     "name": "stderr",
     "output_type": "stream",
     "text": [
      "/home/brv/miniconda3/envs/dl/lib/python2.7/site-packages/ipykernel_launcher.py:2: UserWarning: The `nb_epoch` argument in `fit` has been renamed `epochs`.\n",
      "  \n"
     ]
    },
    {
     "name": "stdout",
     "output_type": "stream",
     "text": [
      "Train on 700 samples, validate on 300 samples\n",
      "Epoch 1/15\n",
      "700/700 [==============================] - 1s 1ms/step - loss: 2.3029 - acc: 0.1043 - val_loss: 2.2953 - val_acc: 0.1033\n",
      "Epoch 2/15\n",
      "700/700 [==============================] - 1s 1ms/step - loss: 2.2784 - acc: 0.1514 - val_loss: 2.2737 - val_acc: 0.1500\n",
      "Epoch 3/15\n",
      "700/700 [==============================] - 1s 987us/step - loss: 2.2520 - acc: 0.2243 - val_loss: 2.2477 - val_acc: 0.2333\n",
      "Epoch 4/15\n",
      "700/700 [==============================] - 1s 985us/step - loss: 2.2176 - acc: 0.3157 - val_loss: 2.2123 - val_acc: 0.3200\n",
      "Epoch 5/15\n",
      "700/700 [==============================] - 1s 1ms/step - loss: 2.1677 - acc: 0.4300 - val_loss: 2.1574 - val_acc: 0.4233\n",
      "Epoch 6/15\n",
      "700/700 [==============================] - 1s 1ms/step - loss: 2.0896 - acc: 0.5386 - val_loss: 2.0677 - val_acc: 0.4400\n",
      "Epoch 7/15\n",
      "700/700 [==============================] - 1s 1ms/step - loss: 1.9592 - acc: 0.5786 - val_loss: 1.9121 - val_acc: 0.5200\n",
      "Epoch 8/15\n",
      "700/700 [==============================] - 1s 1ms/step - loss: 1.7404 - acc: 0.6586 - val_loss: 1.6585 - val_acc: 0.6000\n",
      "Epoch 9/15\n",
      "700/700 [==============================] - 1s 1ms/step - loss: 1.4313 - acc: 0.7100 - val_loss: 1.3420 - val_acc: 0.6267\n",
      "Epoch 10/15\n",
      "700/700 [==============================] - 1s 1ms/step - loss: 1.1171 - acc: 0.7357 - val_loss: 1.0750 - val_acc: 0.6967\n",
      "Epoch 11/15\n",
      "700/700 [==============================] - 1s 1ms/step - loss: 0.8831 - acc: 0.7643 - val_loss: 0.8921 - val_acc: 0.7267\n",
      "Epoch 12/15\n",
      "700/700 [==============================] - 1s 1ms/step - loss: 0.7437 - acc: 0.7957 - val_loss: 0.7922 - val_acc: 0.7400\n",
      "Epoch 13/15\n",
      "700/700 [==============================] - 1s 1ms/step - loss: 0.6394 - acc: 0.8171 - val_loss: 0.7548 - val_acc: 0.7767\n",
      "Epoch 14/15\n",
      "700/700 [==============================] - 1s 1ms/step - loss: 0.5723 - acc: 0.8257 - val_loss: 0.6269 - val_acc: 0.8033\n",
      "Epoch 15/15\n",
      "700/700 [==============================] - 1s 1ms/step - loss: 0.5244 - acc: 0.8314 - val_loss: 0.6670 - val_acc: 0.7733\n"
     ]
    }
   ],
   "source": [
    "history = model.fit(X_train, Y_train, batch_size=batch_size, nb_epoch=nb_epoch,\n",
    "          verbose=1, validation_data=(X_val, Y_val))"
   ]
  },
  {
   "cell_type": "code",
   "execution_count": 13,
   "metadata": {},
   "outputs": [
    {
     "name": "stdout",
     "output_type": "stream",
     "text": [
      "('Test score:', 0.3519293746974319)\n",
      "('Test accuracy:', 0.9131)\n"
     ]
    }
   ],
   "source": [
    "score = model.evaluate(X_test, Y_test, verbose=0)\n",
    "print('Test score:', score[0])\n",
    "print('Test accuracy:', score[1])"
   ]
  },
  {
   "cell_type": "code",
   "execution_count": 14,
   "metadata": {},
   "outputs": [
    {
     "data": {
      "image/png": "[encoded data removed]",
      "text/plain": [
       "<Figure size 432x288 with 1 Axes>"
      ]
     },
     "metadata": {},
     "output_type": "display_data"
    }
   ],
   "source": [
    "plt.plot(history.history['acc'])\n",
    "plt.plot(history.history['val_acc'])\n",
    "plt.title('model accuracy')\n",
    "plt.ylabel('accuracy')\n",
    "plt.xlabel('epoch')\n",
    "plt.legend(['train', 'test'], loc='upper left')\n",
    "plt.show()"
   ]
  }
 ],
 "metadata": {
  "anaconda-cloud": {},
  "kernelspec": {
   "display_name": "Python 2",
   "language": "python",
   "name": "python2"
  },
  "language_info": {
   "codemirror_mode": {
    "name": "ipython",
    "version": 2
   },
   "file_extension": ".py",
   "mimetype": "text/x-python",
   "name": "python",
   "nbconvert_exporter": "python",
   "pygments_lexer": "ipython2",
   "version": "2.7.15"
  }
 },
 "nbformat": 4,
 "nbformat_minor": 1
}
