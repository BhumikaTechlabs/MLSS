{
 "cells": [
  {
   "cell_type": "markdown",
   "metadata": {},
   "source": [
    "### Linear Regression\n",
    "In this notebook, you will implement your own linear regression model. "
   ]
  },
  {
   "cell_type": "code",
   "execution_count": 1,
   "metadata": {},
   "outputs": [],
   "source": [
    "# Import libraries \n",
    "# Scientific computation \n",
    "import numpy as np \n",
    "# Visualization \n",
    "import matplotlib.pyplot as plt \n",
    "from matplotlib import style \n",
    "style.use('ggplot')\n",
    "# Unit tests \n"
   ]
  },
  {
   "cell_type": "markdown",
   "metadata": {},
   "source": [
    "### Create your dataset\n",
    "Let's create our dataset based on **N = 10** datapoints of the simplest linear function: <br>\n",
    "y = mx + b "
   ]
  },
  {
   "cell_type": "code",
   "execution_count": 2,
   "metadata": {},
   "outputs": [],
   "source": [
    "# Dataset (linear model)\n",
    "# Features \n",
    "x = np.array(range(10)).reshape(-1, 1)\n",
    "# Labels \n",
    "y = 2*x+3"
   ]
  },
  {
   "cell_type": "markdown",
   "metadata": {},
   "source": [
    "### Define the hypothesis \n",
    "Remember the hypothesis is a linear combination of **n** features parameterized by **w** weights. Where **n** is equal to **w**. \n",
    "The task is to build two functions. One that initilizes the learning parameters **w**. And another that computes a linear combination using the features and the learning parameters. <br> <br>\n",
    "** Exercise: ** Complete the function initialize_weights, your task is to return a tensor of the same size as features in order to compute the hypothesis. "
   ]
  },
  {
   "cell_type": "code",
   "execution_count": 3,
   "metadata": {},
   "outputs": [],
   "source": [
    "def initialize_weights(features):\n",
    "    \"\"\" \n",
    "    Initialize the weights of the learning model\n",
    "    :param features: tensor that contains the features of the model \n",
    "    : return: a tensor that contains random values with the same size of features\n",
    "    \"\"\"\n",
    "    return np.random.rand(features.shape[1]+1, 1)\n",
    "\n"
   ]
  },
  {
   "cell_type": "markdown",
   "metadata": {},
   "source": [
    "** Exercise: ** Complete the function compute_hypothesis, your task is to return a tensor that contains a linear combination of features and learning parameters."
   ]
  },
  {
   "cell_type": "code",
   "execution_count": 4,
   "metadata": {},
   "outputs": [],
   "source": [
    "def compute_hypothesis(features, weights):\n",
    "    \"\"\"\n",
    "    Compute the linear combination of the hypothesis\n",
    "    :param features: tensor that contains the features of the model\n",
    "    :param weights: tensor that contains the random-initialized \n",
    "                    learning parameters of the model\n",
    "    : return: a tensor that matrix multiplies the features and the weights\n",
    "    \"\"\"\n",
    "    return np.dot(features, weights)"
   ]
  },
  {
   "cell_type": "markdown",
   "metadata": {},
   "source": [
    "### Cost function\n",
    "The next step is to program the cost function of the model. Remember that we are working on linear regression, so we are going to use the popular **mean squared error (MSE)** <br> <br>\n",
    "\n",
    "**Exercise: ** Complete the function cost_function, for this you will make use of the functions you implemented before. "
   ]
  },
  {
   "cell_type": "code",
   "execution_count": 5,
   "metadata": {},
   "outputs": [],
   "source": [
    "def cost_function(hypothesis, labels, derivative = False):\n",
    "    \"\"\"\n",
    "    Compute the cost function of a linear regression model \n",
    "    :param hypothesis: tensor that contains the linear combination of\n",
    "                        features and learning parameters\n",
    "    :param labels: tensor that contains the labels of the dataset\n",
    "    :param derivative: boolean that controls the output of the derivative of the \n",
    "                        cost function\n",
    "    : return: a value that represents the associated cost for the current hypothesis\n",
    "            and labels\n",
    "    \"\"\"\n",
    "    m = labels.shape[0]\n",
    "    mse_loss = (1 / (2*m)) * np.sum( (hypothesis - labels)**2 )\n",
    "    if derivative:\n",
    "        deriv = (1 / m) * np.sum( np.dot((hypothesis - labels).T, x) )\n",
    "        return mse_loss, deriv\n",
    "    else:\n",
    "        return mse_loss\n"
   ]
  },
  {
   "cell_type": "markdown",
   "metadata": {},
   "source": [
    "### Learning algorithm \n",
    "The final step is to program the learning algorithm to minimize the cost function and so find the minium point in the **cost function vs learning parameters** function. <br>\n",
    "The algorithm that we are going to implement is going to be the batch gradient descent (BGD). <br>\n",
    "\n",
    "**Exercise: ** Tune the hyperparameters for BGD"
   ]
  },
  {
   "cell_type": "code",
   "execution_count": 6,
   "metadata": {
    "collapsed": true
   },
   "outputs": [],
   "source": [
    "# Hyperparameters \n",
    "epochs = 20\n",
    "learning_rate = 0.005"
   ]
  },
  {
   "cell_type": "markdown",
   "metadata": {},
   "source": [
    "**Exercise: ** Complete the steps in the implemantation of BGD. "
   ]
  },
  {
   "cell_type": "code",
   "execution_count": 7,
   "metadata": {},
   "outputs": [
    {
     "name": "stdout",
     "output_type": "stream",
     "text": [
      "weights initialized: [[ 0.44824556]\n",
      " [ 0.80346237]]\n",
      "\n",
      "*Iteration number 0\n",
      "Cost funtion: 52.06375137254773\n",
      "\n",
      "*Iteration number 1\n",
      "Cost funtion: 33.96399333812936\n",
      "\n",
      "*Iteration number 2\n",
      "Cost funtion: 22.161932988299146\n",
      "\n",
      "*Iteration number 3\n",
      "Cost funtion: 14.466325774315173\n",
      "\n",
      "*Iteration number 4\n",
      "Cost funtion: 9.44835699289184\n",
      "\n",
      "*Iteration number 5\n",
      "Cost funtion: 6.176359086659868\n",
      "\n",
      "*Iteration number 6\n",
      "Cost funtion: 4.042832401914398\n",
      "\n",
      "*Iteration number 7\n",
      "Cost funtion: 2.6516529925843324\n",
      "\n",
      "*Iteration number 8\n",
      "Cost funtion: 1.7445257638593579\n",
      "\n",
      "*Iteration number 9\n",
      "Cost funtion: 1.1530277848240573\n",
      "\n",
      "*Iteration number 10\n",
      "Cost funtion: 0.7673378307317218\n",
      "\n",
      "*Iteration number 11\n",
      "Cost funtion: 0.5158462856036014\n",
      "\n",
      "*Iteration number 12\n",
      "Cost funtion: 0.35185965178065265\n",
      "\n",
      "*Iteration number 13\n",
      "Cost funtion: 0.2449311422799374\n",
      "\n",
      "*Iteration number 14\n",
      "Cost funtion: 0.1752077393568112\n",
      "\n",
      "*Iteration number 15\n",
      "Cost funtion: 0.12974415870951894\n",
      "\n",
      "*Iteration number 16\n",
      "Cost funtion: 0.10009934680107334\n",
      "\n",
      "*Iteration number 17\n",
      "Cost funtion: 0.08076926191609687\n",
      "\n",
      "*Iteration number 18\n",
      "Cost funtion: 0.06816495925381726\n",
      "\n",
      "*Iteration number 19\n",
      "Cost funtion: 0.05994624492598674\n"
     ]
    }
   ],
   "source": [
    "# Support variables \n",
    "cost_history = []\n",
    "\n",
    "# Initialize the learning parameters \n",
    "weights = initialize_weights(x)\n",
    "print('weights initialized: {}'.format(weights))\n",
    "\n",
    "x = np.concatenate((x, np.ones([x.shape[0],1])), axis=1)\n",
    "\n",
    "# Compute the algorithm \"epochs\" times\n",
    "for e in range(epochs):\n",
    "    # Some feedback\n",
    "    print('\\n*Iteration number {}'.format(e))\n",
    "    \n",
    "    # Hypothesis\n",
    "    hypothesis = compute_hypothesis(x, weights)\n",
    "    #print( 'Hypothesis: {}'.format(hypothesis) )\n",
    "    \n",
    "    # Cost function\n",
    "    cost, deriv = cost_function(hypothesis, y, derivative = True)\n",
    "    cost_history.append(cost)\n",
    "    print( 'Cost funtion: {}'.format(cost) )\n",
    "    \n",
    "    # Update weights\n",
    "    weights = weights - learning_rate * deriv\n",
    "    #print('Updated weights: {}'.format(weights))"
   ]
  },
  {
   "cell_type": "markdown",
   "metadata": {},
   "source": [
    "### Visualization of the cost function\n",
    "In order to convince ourselves that the algorithm is working and we have set the correct hyperparameters, we will plot the **cost function vs the number of epochs**.\n",
    "\n",
    "** If you see that the cost function is decreasing over time, then the algorithm is working fine **"
   ]
  },
  {
   "cell_type": "code",
   "execution_count": 8,
   "metadata": {},
   "outputs": [
    {
     "data": {
      "image/png": "[encoded data removed]",
      "text/plain": [
       "<matplotlib.figure.Figure at 0x1871d08b160>"
      ]
     },
     "metadata": {},
     "output_type": "display_data"
    }
   ],
   "source": [
    "# Let's visualize the learning curve \n",
    "plt.scatter([i for i in range(epochs)], cost_history)\n",
    "plt.title('Cost function vs Epochs')\n",
    "plt.xlabel('Epochs')\n",
    "plt.ylabel('Cost function')\n",
    "plt.show()"
   ]
  },
  {
   "cell_type": "markdown",
   "metadata": {},
   "source": [
    "### Visualization of the result\n",
    "Finally, let's visualize the **machine learning model vs original data distribution**"
   ]
  },
  {
   "cell_type": "code",
   "execution_count": 9,
   "metadata": {},
   "outputs": [
    {
     "data": {
      "image/png": "[encoded data removed]",
      "text/plain": [
       "<matplotlib.figure.Figure at 0x1871d2f2ef0>"
      ]
     },
     "metadata": {},
     "output_type": "display_data"
    }
   ],
   "source": [
    "plt.scatter(x[:,0], y, label='ground truth data', marker='*')\n",
    "plt.scatter(x[:,0], np.dot(x, weights), label='learning algorithm', marker='^')\n",
    "plt.title('Comparison')\n",
    "plt.xlabel('x')\n",
    "plt.ylabel('y / hypothesis')\n",
    "plt.legend()\n",
    "plt.show()"
   ]
  },
  {
   "cell_type": "code",
   "execution_count": 10,
   "metadata": {},
   "outputs": [],
   "source": [
    "weights = np.dot(np.linalg.pinv(x),y)"
   ]
  },
  {
   "cell_type": "code",
   "execution_count": 11,
   "metadata": {},
   "outputs": [
    {
     "data": {
      "image/png": "[encoded data removed]",
      "text/plain": [
       "<matplotlib.figure.Figure at 0x18719c2c748>"
      ]
     },
     "metadata": {},
     "output_type": "display_data"
    }
   ],
   "source": [
    "plt.scatter(x[:,0], y, label='ground truth data', marker='*')\n",
    "plt.scatter(x[:,0], np.dot(x, weights), label='learning algorithm', marker='^')\n",
    "plt.title('Comparison')\n",
    "plt.xlabel('x')\n",
    "plt.ylabel('y / hypothesis')\n",
    "plt.legend()\n",
    "plt.show()"
   ]
  },
  {
   "cell_type": "code",
   "execution_count": 12,
   "metadata": {
    "collapsed": true
   },
   "outputs": [],
   "source": [
    "weights = np.dot(np.dot(np.linalg.inv(np.dot(x.T, x)), x.T),y)"
   ]
  },
  {
   "cell_type": "code",
   "execution_count": 13,
   "metadata": {},
   "outputs": [
    {
     "data": {
      "image/png": "[encoded data removed]",
      "text/plain": [
       "<matplotlib.figure.Figure at 0x1871d745208>"
      ]
     },
     "metadata": {},
     "output_type": "display_data"
    }
   ],
   "source": [
    "plt.scatter(x[:,0], y, label='ground truth data', marker='*')\n",
    "plt.scatter(x[:,0], np.dot(x, weights), label='learning algorithm', marker='^')\n",
    "plt.title('Comparison')\n",
    "plt.xlabel('x')\n",
    "plt.ylabel('y / hypothesis')\n",
    "plt.legend()\n",
    "plt.show()"
   ]
  },
  {
   "cell_type": "code",
   "execution_count": null,
   "metadata": {
    "collapsed": true
   },
   "outputs": [],
   "source": []
  }
 ],
 "metadata": {
  "kernelspec": {
   "display_name": "Python 2",
   "language": "python",
   "name": "python2"
  },
  "language_info": {
   "codemirror_mode": {
    "name": "ipython",
    "version": 2
   },
   "file_extension": ".py",
   "mimetype": "text/x-python",
   "name": "python",
   "nbconvert_exporter": "python",
   "pygments_lexer": "ipython2",
   "version": "2.7.15"
  }
 },
 "nbformat": 4,
 "nbformat_minor": 2
}
