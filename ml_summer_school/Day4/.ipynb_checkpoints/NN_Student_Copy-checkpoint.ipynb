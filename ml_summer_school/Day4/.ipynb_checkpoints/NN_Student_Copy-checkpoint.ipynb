{
 "cells": [
  {
   "cell_type": "code",
   "execution_count": null,
   "metadata": {},
   "outputs": [],
   "source": [
    "import numpy as np\n",
    "import matplotlib.pyplot as plt"
   ]
  },
  {
   "cell_type": "code",
   "execution_count": null,
   "metadata": {},
   "outputs": [],
   "source": [
    "x = np.arange(-8., 8., 0.1)"
   ]
  },
  {
   "cell_type": "code",
   "execution_count": null,
   "metadata": {},
   "outputs": [],
   "source": [
    "plt.plot(x, label='x')\n",
    "plt.title('Input Variable - X')\n",
    "plt.legend(loc='best')"
   ]
  },
  {
   "cell_type": "code",
   "execution_count": null,
   "metadata": {},
   "outputs": [],
   "source": [
    "w1 = 0.1\n",
    "w2 = 0.2\n",
    "w3 = 0.3\n",
    "\n",
    "w1x = w1 * x\n",
    "w2x = w2 * x\n",
    "w3x = w3 * x\n",
    "\n",
    "plt.figure(figsize=(16, 9))\n",
    "plt.plot(x, label='x')\n",
    "plt.plot(w1x, label='w1 * x')\n",
    "plt.plot(w2x, label='w2 * x')\n",
    "plt.plot(w3x, label='w3 * x')\n",
    "plt.title('wx = w(i) * X')\n",
    "plt.legend(loc='best')"
   ]
  },
  {
   "cell_type": "code",
   "execution_count": null,
   "metadata": {},
   "outputs": [],
   "source": [
    "b1 = 0.1\n",
    "b2 = 0.2\n",
    "b3 = 0.3\n",
    "\n",
    "y1 = w1 * x + b1 \n",
    "y2 = w2 * x + b2\n",
    "y3 = w3 * x + b3\n",
    "\n",
    "plt.figure(figsize=(16, 9))\n",
    "\n",
    "'''\n",
    "Your plotting code goes here.\n",
    "Plot y1, y2, y3\n",
    "'''\n",
    "\n",
    "plt.title('y = w(i) * X + b(i)')\n",
    "plt.legend(loc='best')"
   ]
  },
  {
   "cell_type": "code",
   "execution_count": null,
   "metadata": {},
   "outputs": [],
   "source": [
    "def sigmoid(inp):\n",
    "    return 1 / (1 + np.exp(-inp))"
   ]
  },
  {
   "cell_type": "code",
   "execution_count": null,
   "metadata": {},
   "outputs": [],
   "source": [
    "plt.figure(figsize=(16, 9))\n",
    "\n",
    "plt.subplot(1, 2, 1)\n",
    "plt.plot(x, label='x')\n",
    "plt.plot(y1, label='w1 * x + b1')\n",
    "plt.plot(y2, label='w2 * x + b2')\n",
    "plt.plot(y3, label='w3 * x + b3')\n",
    "plt.title('Linear -> y = w(i) * X + b(i)')\n",
    "plt.legend(loc='best')\n",
    "\n",
    "'''\n",
    "Find sigmoid_y1, sigmoid_y2, sigmoid_y3.   \n",
    "'''\n",
    "\n",
    "\n",
    "plt.subplot(1, 2, 2)\n",
    "plt.plot(sigmoid_y1, label='sigmoid(w1 * x + b1)')\n",
    "plt.plot(sigmoid_y2, label='sigmoid(w2 * x + b2)')\n",
    "plt.plot(sigmoid_y3, label='sigmoid(w3 * x + b3)')\n",
    "plt.title('Non-Linear -> sigmoid_y = sigmoid(w(i) * X + b(i))')\n",
    "plt.legend(loc='best')"
   ]
  },
  {
   "cell_type": "markdown",
   "metadata": {},
   "source": [
    "## Naive Implementation"
   ]
  },
  {
   "cell_type": "code",
   "execution_count": null,
   "metadata": {},
   "outputs": [],
   "source": [
    "x1 = 0.1\n",
    "x2 = 0.2\n",
    "x3 = 0.3\n",
    "\n",
    "w1 = 1.0\n",
    "w2 = 2.0\n",
    "w3 = 3.0\n",
    "\n",
    "b = 0.0\n",
    "\n",
    "y = w1 * x1 + w2 * x2 + w3 * x3 + b\n",
    "sigmoid_y = sigmoid(y)\n",
    "print sigmoid_y"
   ]
  },
  {
   "cell_type": "markdown",
   "metadata": {},
   "source": [
    "But it is looks tidious if we have 10 inputs(features). So lets make it vectorized."
   ]
  },
  {
   "cell_type": "markdown",
   "metadata": {},
   "source": [
    "## Vectorized Implementaion - I"
   ]
  },
  {
   "cell_type": "code",
   "execution_count": null,
   "metadata": {},
   "outputs": [],
   "source": [
    "vector_x = np.array([0.1, 0.2, 0.3])\n",
    "vector_w = np.array([1.0, 2.0, 3.0])\n",
    "vector_b = np.array([0.5])\n",
    "\n",
    "vector_sigmoid_y = sigmoid(np.sum(vector_x * vector_w) + vector_b)\n",
    "print vector_sigmoid_y"
   ]
  },
  {
   "cell_type": "markdown",
   "metadata": {},
   "source": [
    "## Vectorized Implementaion - II"
   ]
  },
  {
   "cell_type": "code",
   "execution_count": null,
   "metadata": {},
   "outputs": [],
   "source": [
    "vector_x = np.array([0.1, 0.2, 0.3])\n",
    "vector_w = np.array([1.0, 2.0, 3.0])\n",
    "vector_b = np.array([0.5])\n",
    "\n",
    "vector_sigmoid_y = sigmoid(np.matmul(vector_x.T, vector_w) + vector_b)\n",
    "print vector_sigmoid_y"
   ]
  },
  {
   "cell_type": "markdown",
   "metadata": {},
   "source": [
    "Lets stack n neurons"
   ]
  },
  {
   "cell_type": "code",
   "execution_count": null,
   "metadata": {},
   "outputs": [],
   "source": [
    "vector_x = np.array([0.1, 0.2, 0.3])\n",
    "vector_w = np.array([[1.0, 2.0, 3.0],\n",
    "                     [1.5, 2.0, 3.86],\n",
    "                     [1.8, 0.24, 3.0]])\n",
    "vector_b = np.array([0.5, 0.5, 0.78])\n",
    "\n",
    "vector_sigmoid_y = sigmoid(np.matmul(vector_w, vector_x) + vector_b)\n",
    "print vector_sigmoid_y"
   ]
  },
  {
   "cell_type": "code",
   "execution_count": null,
   "metadata": {},
   "outputs": [],
   "source": [
    "def layer(x, w, b):\n",
    "    return sigmoid(np.matmul(x, w) + b)"
   ]
  },
  {
   "cell_type": "code",
   "execution_count": null,
   "metadata": {},
   "outputs": [],
   "source": [
    "print layer(vector_x, vector_w, vector_b)"
   ]
  },
  {
   "cell_type": "code",
   "execution_count": null,
   "metadata": {},
   "outputs": [],
   "source": [
    "vector_x = np.random.randn(3, 3)\n",
    "vector_w = np.array([[1.0, 2.0, 3.0],\n",
    "                     [1.5, 2.0, 3.86],\n",
    "                     [1.8, 0.24, 3.0]])\n",
    "vector_b = np.random.randn(3)\n",
    "\n",
    "vector_sigmoid_y = layer(vector_x, vector_w, vector_b)\n",
    "print vector_sigmoid_y"
   ]
  },
  {
   "cell_type": "code",
   "execution_count": null,
   "metadata": {},
   "outputs": [],
   "source": [
    "vector_x = np.random.randn(3, 3)\n",
    "\n",
    "vector_w1 = np.random.randn(3, 3)\n",
    "vector_b1 = np.random.randn(3)\n",
    "\n",
    "vector_w2 = np.random.randn(3, 1)\n",
    "vector_b2 = np.random.randn(1)\n",
    "\n",
    "vector_sigmoid_y1 = layer(vector_x, vector_w1, vector_b1)\n",
    "vector_sigmoid_y2 = layer(vector_sigmoid_y1, vector_w2, vector_b2)\n",
    "print vector_sigmoid_y1\n",
    "print vector_sigmoid_y2"
   ]
  },
  {
   "cell_type": "code",
   "execution_count": null,
   "metadata": {},
   "outputs": [],
   "source": [
    "def cost_function(y_predicted, y_truth):\n",
    "    return 0.5 * np.sum(np.square(y_predicted.ravel() - y_truth), axis=0)"
   ]
  },
  {
   "cell_type": "code",
   "execution_count": null,
   "metadata": {},
   "outputs": [],
   "source": [
    "def df_cost_function(y_predicted, y_truth, grad):\n",
    "    return grad * np.sum(y_predicted.ravel() - y_truth)"
   ]
  },
  {
   "cell_type": "code",
   "execution_count": null,
   "metadata": {},
   "outputs": [],
   "source": [
    "def df_sigmoid(y, grad):\n",
    "    return grad * y * (1 - y)"
   ]
  },
  {
   "cell_type": "code",
   "execution_count": null,
   "metadata": {},
   "outputs": [],
   "source": [
    "def df_layer(x, w, b, grad):\n",
    "    y = layer(x, w, b)\n",
    "    df1 = df_sigmoid(y, grad)\n",
    "    return np.matmul(x.T, df1), np.sum(grad, axis=0), np.matmul(df1, w.T)"
   ]
  },
  {
   "cell_type": "code",
   "execution_count": null,
   "metadata": {},
   "outputs": [],
   "source": [
    "vector_x = np.random.randn(1000, 3)\n",
    "\n",
    "vector_w1 = np.random.randn(3, 1)\n",
    "vector_b1 = np.random.randn(1)\n",
    "\n",
    "# vector_w2 = np.random.randn(3, 1)\n",
    "# vector_b2 = np.random.randn(1)\n",
    "temp = np.matmul(vector_x, np.array([0.1, 0.5, 0.9]))\n",
    "vector_y_truth = temp + np.random.randn(*temp.shape) * 0.1"
   ]
  },
  {
   "cell_type": "code",
   "execution_count": null,
   "metadata": {},
   "outputs": [],
   "source": [
    "plt.plot(vector_y_truth)"
   ]
  },
  {
   "cell_type": "code",
   "execution_count": null,
   "metadata": {},
   "outputs": [],
   "source": [
    "loss_over_time = []\n",
    "lr = 1.0\n",
    "for i in range(1000):\n",
    "    y_predicted = layer(vector_x, vector_w1, vector_b1)\n",
    "    \n",
    "    cost = cost_function(y_predicted=y_predicted, y_truth=vector_y_truth)\n",
    "    df_loss = df_cost_function(y_predicted, vector_y_truth, cost)\n",
    "    df_w1, df_b1, df_layer1 = df_layer(vector_x, vector_w1, vector_b1, df_loss)\n",
    "\n",
    "    vector_w1 -= lr * df_w1\n",
    "    vector_b1 -= lr * df_b1\n",
    "    \n",
    "    y_predicted = layer(vector_x, vector_w1, vector_b1)\n",
    "    \n",
    "    cost = cost_function(y_predicted=y_predicted, y_truth=vector_y_truth)\n",
    "    loss_over_time.append(cost)"
   ]
  },
  {
   "cell_type": "code",
   "execution_count": null,
   "metadata": {},
   "outputs": [],
   "source": [
    "plt.plot(loss_over_time)"
   ]
  }
 ],
 "metadata": {
  "kernelspec": {
   "display_name": "Python 2",
   "language": "python",
   "name": "python2"
  },
  "language_info": {
   "codemirror_mode": {
    "name": "ipython",
    "version": 2
   },
   "file_extension": ".py",
   "mimetype": "text/x-python",
   "name": "python",
   "nbconvert_exporter": "python",
   "pygments_lexer": "ipython2",
   "version": "2.7.15"
  }
 },
 "nbformat": 4,
 "nbformat_minor": 2
}
